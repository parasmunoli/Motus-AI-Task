{
 "cells": [
  {
   "metadata": {},
   "cell_type": "markdown",
   "source": "# Importing Libraries",
   "id": "a2c1787414ff2adf"
  },
  {
   "cell_type": "code",
   "execution_count": null,
   "id": "initial_id",
   "metadata": {
    "collapsed": true
   },
   "outputs": [],
   "source": [
    "import cv2\n",
    "import numpy as np\n",
    "import tensorflow as tf\n",
    "import time"
   ]
  },
  {
   "metadata": {},
   "cell_type": "markdown",
   "source": "# Loading model.tflite",
   "id": "af07897987e9be21"
  },
  {
   "metadata": {},
   "cell_type": "code",
   "outputs": [],
   "execution_count": null,
   "source": [
    "tflite_model_path = \"model.tflite\"\n",
    "interpreter = tf.lite.Interpreter(model_path=tflite_model_path)\n",
    "interpreter.allocate_tensors()"
   ],
   "id": "472dbc5fce9cdb96"
  },
  {
   "metadata": {},
   "cell_type": "markdown",
   "source": "# Extracting I/P and O/P Details",
   "id": "e2aa9d157755de4f"
  },
  {
   "metadata": {},
   "cell_type": "code",
   "outputs": [],
   "execution_count": null,
   "source": [
    "input_details = interpreter.get_input_details()\n",
    "output_details = interpreter.get_output_details()"
   ],
   "id": "3dba4b5876e1d246"
  },
  {
   "metadata": {},
   "cell_type": "markdown",
   "source": "# Capturing Video Frames",
   "id": "e267565780fed228"
  },
  {
   "metadata": {},
   "cell_type": "code",
   "outputs": [],
   "execution_count": null,
   "source": [
    "cap = cv2.VideoCapture(\"squat.mp4\")\n",
    "frame_width = int(cap.get(cv2.CAP_PROP_FRAME_WIDTH))\n",
    "frame_height = int(cap.get(cv2.CAP_PROP_FRAME_HEIGHT))"
   ],
   "id": "236d66577f3e8ac5"
  },
  {
   "metadata": {},
   "cell_type": "markdown",
   "source": "# Processing Video",
   "id": "f4475f462c770d4f"
  },
  {
   "metadata": {},
   "cell_type": "code",
   "outputs": [],
   "execution_count": null,
   "source": [
    "while cap.isOpened():\n",
    "    ret, frame = cap.read()\n",
    "    if not ret:\n",
    "        break\n",
    "\n",
    "    input_size = input_details[0]['shape'][1:3]\n",
    "    resized_frame = cv2.resize(frame, (input_size[1], input_size[0]))\n",
    "    input_data = np.expand_dims(resized_frame, axis=0).astype(np.float32) / 255.0\n",
    "\n",
    "    start_time = time.time()\n",
    "    interpreter.set_tensor(input_details[0]['index'], input_data)\n",
    "    interpreter.invoke()\n",
    "    inference_time = (time.time() - start_time) * 1000  # in milliseconds\n",
    "\n",
    "    output_data = interpreter.get_tensor(output_details[0]['index'])\n",
    "\n",
    "    print(f\"Inference Time: {inference_time:.2f} ms\")\n",
    "\n",
    "    cv2.imshow(\"Pose Detection\", frame)\n",
    "    if cv2.waitKey(10) & 0xFF == ord('q'):\n",
    "        break\n",
    "\n",
    "cap.release()\n",
    "cv2.destroyAllWindows()"
   ],
   "id": "8e7755fc80aaec6"
  }
 ],
 "metadata": {
  "kernelspec": {
   "display_name": "Python 3",
   "language": "python",
   "name": "python3"
  },
  "language_info": {
   "codemirror_mode": {
    "name": "ipython",
    "version": 2
   },
   "file_extension": ".py",
   "mimetype": "text/x-python",
   "name": "python",
   "nbconvert_exporter": "python",
   "pygments_lexer": "ipython2",
   "version": "2.7.6"
  }
 },
 "nbformat": 4,
 "nbformat_minor": 5
}
