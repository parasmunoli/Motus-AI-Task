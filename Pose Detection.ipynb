{
 "cells": [
  {
   "metadata": {},
   "cell_type": "markdown",
   "source": "# Importing Libraries",
   "id": "ac5e2a932a497ca1"
  },
  {
   "cell_type": "code",
   "execution_count": null,
   "id": "initial_id",
   "metadata": {
    "collapsed": true
   },
   "outputs": [],
   "source": [
    "import cv2\n",
    "import mediapipe as mp\n",
    "import math"
   ]
  },
  {
   "metadata": {},
   "cell_type": "markdown",
   "source": "# Initializing MediaPipe Pose",
   "id": "3bc4ec088496f841"
  },
  {
   "metadata": {},
   "cell_type": "code",
   "outputs": [],
   "execution_count": null,
   "source": [
    "pose_init = mp.solutions.pose\n",
    "pose = pose_init.Pose(min_detection_confidence=0.5, min_tracking_confidence=0.5)"
   ],
   "id": "c2bb6d1ece28aa12"
  },
  {
   "metadata": {},
   "cell_type": "markdown",
   "source": "# Calculate squat angle",
   "id": "12231f64015e71bb"
  },
  {
   "metadata": {},
   "cell_type": "code",
   "outputs": [],
   "execution_count": null,
   "source": [
    "def calculate_angle(a, b, c):\n",
    "    #Formula for calculating angle between 3 points i.e. a,b,c (a = Hip, b = Knee, c = Ankle)\n",
    "    ab = [b[0] - a[0], b[1] - a[1]]\n",
    "    bc = [c[0] - b[0], c[1] - b[1]]\n",
    "    dot_product = ab[0] * bc[0] + ab[1] * bc[1]\n",
    "    magnitude_ab = math.sqrt(ab[0] ** 2 + ab[1] ** 2)\n",
    "    magnitude_bc = math.sqrt(bc[0] ** 2 + bc[1] ** 2)\n",
    "    if magnitude_ab == 0 or magnitude_bc == 0:\n",
    "        return 0\n",
    "    angle = math.acos(dot_product / (magnitude_ab * magnitude_bc))\n",
    "    return math.degrees(angle)"
   ],
   "id": "747ffbdf4d2c91bd"
  },
  {
   "metadata": {},
   "cell_type": "markdown",
   "source": "# Open video file",
   "id": "f244bab44e57c849"
  },
  {
   "metadata": {},
   "cell_type": "code",
   "outputs": [],
   "execution_count": null,
   "source": [
    "cap = cv2.VideoCapture(\"squat.mp4\")\n",
    "angles = []\n",
    "\n",
    "while cap.isOpened():\n",
    "    ret, frame = cap.read()\n",
    "    if not ret:\n",
    "        break\n",
    "\n",
    "    #Convert video frame into RGB\n",
    "    rgb_frame = cv2.cvtColor(frame, cv2.COLOR_BGR2RGB)\n",
    "    results = pose.process(rgb_frame)\n",
    "\n",
    "    if results.pose_landmarks:\n",
    "        # Draw pose landmarks\n",
    "        mp.solutions.drawing_utils.draw_landmarks(\n",
    "            frame, results.pose_landmarks, pose_init.POSE_CONNECTIONS)\n",
    "\n",
    "        landmarks = results.pose_landmarks.landmark\n",
    "        frame_height, frame_width, _ = frame.shape\n",
    "\n",
    "        # Extract and scale landmark coordinates\n",
    "        hip = [landmarks[pose_init.PoseLandmark.RIGHT_HIP.value].x * frame_width,\n",
    "               landmarks[pose_init.PoseLandmark.RIGHT_HIP.value].y * frame_height]\n",
    "        knee = [landmarks[pose_init.PoseLandmark.RIGHT_KNEE.value].x * frame_width,\n",
    "                landmarks[pose_init.PoseLandmark.RIGHT_KNEE.value].y * frame_height]\n",
    "        ankle = [landmarks[pose_init.PoseLandmark.RIGHT_ANKLE.value].x * frame_width,\n",
    "                 landmarks[pose_init.PoseLandmark.RIGHT_ANKLE.value].y * frame_height]\n",
    "\n",
    "        # Calculate Squat angle\n",
    "        angle = calculate_angle(hip, knee, ankle)\n",
    "        angles.append(angle)\n",
    "\n",
    "        #Display angle in output frame\n",
    "        cv2.putText(frame, f\"Knee Angle: {int(angle)}\", (50, 50),\n",
    "                    cv2.FONT_HERSHEY_SIMPLEX, 1, (255, 0, 0), 1)\n",
    "\n",
    "    # Display the video\n",
    "    cv2.imshow('Pose Detection', frame)\n",
    "    if cv2.waitKey(10) & 0xFF == ord('q'):\n",
    "        break\n",
    "\n",
    "cap.release()\n",
    "cv2.destroyAllWindows()"
   ],
   "id": "c2c5ba78b01429bb"
  },
  {
   "metadata": {},
   "cell_type": "markdown",
   "source": "# Save angle continuously in txt file",
   "id": "1387024f968a8169"
  },
  {
   "metadata": {},
   "cell_type": "code",
   "outputs": [],
   "execution_count": null,
   "source": [
    "with open(\"angles.txt\", \"w\") as file:\n",
    "    file.write(\"\\n\".join(map(str, angles)))"
   ],
   "id": "37eb743350c4df54"
  }
 ],
 "metadata": {
  "kernelspec": {
   "display_name": "Python 3",
   "language": "python",
   "name": "python3"
  },
  "language_info": {
   "codemirror_mode": {
    "name": "ipython",
    "version": 2
   },
   "file_extension": ".py",
   "mimetype": "text/x-python",
   "name": "python",
   "nbconvert_exporter": "python",
   "pygments_lexer": "ipython2",
   "version": "2.7.6"
  }
 },
 "nbformat": 4,
 "nbformat_minor": 5
}
